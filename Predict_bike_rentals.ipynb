{
 "cells": [
  {
   "cell_type": "markdown",
   "metadata": {},
   "source": [
    "# Predicting Bike Rentals\n",
    "Many American cities have communal bike sharing stations where you can rent bicycles by the hour or day.\n",
    "\n",
    "We'll try to predict the total number of bikes people rented in a given.\n",
    "\n",
    "### Introduction to DataSet\n",
    "You can download the data from the [University of California, Irvine's website](http://archive.ics.uci.edu/ml/datasets/Bike+Sharing+Dataset).\n",
    "\n",
    " - The Dataset contains 17380 rows, with each row representing the number of bike rentals for a single hour of a single day."
   ]
  },
  {
   "cell_type": "code",
   "execution_count": 1,
   "metadata": {},
   "outputs": [
    {
     "data": {
      "text/html": [
       "<div>\n",
       "<style scoped>\n",
       "    .dataframe tbody tr th:only-of-type {\n",
       "        vertical-align: middle;\n",
       "    }\n",
       "\n",
       "    .dataframe tbody tr th {\n",
       "        vertical-align: top;\n",
       "    }\n",
       "\n",
       "    .dataframe thead th {\n",
       "        text-align: right;\n",
       "    }\n",
       "</style>\n",
       "<table border=\"1\" class=\"dataframe\">\n",
       "  <thead>\n",
       "    <tr style=\"text-align: right;\">\n",
       "      <th></th>\n",
       "      <th>instant</th>\n",
       "      <th>dteday</th>\n",
       "      <th>season</th>\n",
       "      <th>yr</th>\n",
       "      <th>mnth</th>\n",
       "      <th>hr</th>\n",
       "      <th>holiday</th>\n",
       "      <th>weekday</th>\n",
       "      <th>workingday</th>\n",
       "      <th>weathersit</th>\n",
       "      <th>temp</th>\n",
       "      <th>atemp</th>\n",
       "      <th>hum</th>\n",
       "      <th>windspeed</th>\n",
       "      <th>casual</th>\n",
       "      <th>registered</th>\n",
       "      <th>cnt</th>\n",
       "    </tr>\n",
       "  </thead>\n",
       "  <tbody>\n",
       "    <tr>\n",
       "      <th>0</th>\n",
       "      <td>1</td>\n",
       "      <td>2011-01-01</td>\n",
       "      <td>1</td>\n",
       "      <td>0</td>\n",
       "      <td>1</td>\n",
       "      <td>0</td>\n",
       "      <td>0</td>\n",
       "      <td>6</td>\n",
       "      <td>0</td>\n",
       "      <td>1</td>\n",
       "      <td>0.24</td>\n",
       "      <td>0.2879</td>\n",
       "      <td>0.81</td>\n",
       "      <td>0.0</td>\n",
       "      <td>3</td>\n",
       "      <td>13</td>\n",
       "      <td>16</td>\n",
       "    </tr>\n",
       "    <tr>\n",
       "      <th>1</th>\n",
       "      <td>2</td>\n",
       "      <td>2011-01-01</td>\n",
       "      <td>1</td>\n",
       "      <td>0</td>\n",
       "      <td>1</td>\n",
       "      <td>1</td>\n",
       "      <td>0</td>\n",
       "      <td>6</td>\n",
       "      <td>0</td>\n",
       "      <td>1</td>\n",
       "      <td>0.22</td>\n",
       "      <td>0.2727</td>\n",
       "      <td>0.80</td>\n",
       "      <td>0.0</td>\n",
       "      <td>8</td>\n",
       "      <td>32</td>\n",
       "      <td>40</td>\n",
       "    </tr>\n",
       "    <tr>\n",
       "      <th>2</th>\n",
       "      <td>3</td>\n",
       "      <td>2011-01-01</td>\n",
       "      <td>1</td>\n",
       "      <td>0</td>\n",
       "      <td>1</td>\n",
       "      <td>2</td>\n",
       "      <td>0</td>\n",
       "      <td>6</td>\n",
       "      <td>0</td>\n",
       "      <td>1</td>\n",
       "      <td>0.22</td>\n",
       "      <td>0.2727</td>\n",
       "      <td>0.80</td>\n",
       "      <td>0.0</td>\n",
       "      <td>5</td>\n",
       "      <td>27</td>\n",
       "      <td>32</td>\n",
       "    </tr>\n",
       "    <tr>\n",
       "      <th>3</th>\n",
       "      <td>4</td>\n",
       "      <td>2011-01-01</td>\n",
       "      <td>1</td>\n",
       "      <td>0</td>\n",
       "      <td>1</td>\n",
       "      <td>3</td>\n",
       "      <td>0</td>\n",
       "      <td>6</td>\n",
       "      <td>0</td>\n",
       "      <td>1</td>\n",
       "      <td>0.24</td>\n",
       "      <td>0.2879</td>\n",
       "      <td>0.75</td>\n",
       "      <td>0.0</td>\n",
       "      <td>3</td>\n",
       "      <td>10</td>\n",
       "      <td>13</td>\n",
       "    </tr>\n",
       "    <tr>\n",
       "      <th>4</th>\n",
       "      <td>5</td>\n",
       "      <td>2011-01-01</td>\n",
       "      <td>1</td>\n",
       "      <td>0</td>\n",
       "      <td>1</td>\n",
       "      <td>4</td>\n",
       "      <td>0</td>\n",
       "      <td>6</td>\n",
       "      <td>0</td>\n",
       "      <td>1</td>\n",
       "      <td>0.24</td>\n",
       "      <td>0.2879</td>\n",
       "      <td>0.75</td>\n",
       "      <td>0.0</td>\n",
       "      <td>0</td>\n",
       "      <td>1</td>\n",
       "      <td>1</td>\n",
       "    </tr>\n",
       "  </tbody>\n",
       "</table>\n",
       "</div>"
      ],
      "text/plain": [
       "   instant      dteday  season  yr  mnth  hr  holiday  weekday  workingday  \\\n",
       "0        1  2011-01-01       1   0     1   0        0        6           0   \n",
       "1        2  2011-01-01       1   0     1   1        0        6           0   \n",
       "2        3  2011-01-01       1   0     1   2        0        6           0   \n",
       "3        4  2011-01-01       1   0     1   3        0        6           0   \n",
       "4        5  2011-01-01       1   0     1   4        0        6           0   \n",
       "\n",
       "   weathersit  temp   atemp   hum  windspeed  casual  registered  cnt  \n",
       "0           1  0.24  0.2879  0.81        0.0       3          13   16  \n",
       "1           1  0.22  0.2727  0.80        0.0       8          32   40  \n",
       "2           1  0.22  0.2727  0.80        0.0       5          27   32  \n",
       "3           1  0.24  0.2879  0.75        0.0       3          10   13  \n",
       "4           1  0.24  0.2879  0.75        0.0       0           1    1  "
      ]
     },
     "execution_count": 1,
     "metadata": {},
     "output_type": "execute_result"
    }
   ],
   "source": [
    "import pandas as pd\n",
    "\n",
    "bike_rentals = pd.read_csv('bike_rental_hour.csv')\n",
    "bike_rentals.head()"
   ]
  },
  {
   "cell_type": "markdown",
   "metadata": {},
   "source": [
    "Here are the descriptions for the relevant columns:\n",
    "\n",
    " - instant - A unique sequential ID number for each row\n",
    " - dteday - The date of the rentals\n",
    " - season - The season in which the rentals occurred\n",
    " - yr - The year the rentals occurred\n",
    " - mnth - The month the rentals occurred\n",
    " - hr - The hour the rentals occurred\n",
    " - holiday - Whether or not the day was a holiday\n",
    " - weekday - The day of the week (as a number, 0 to 7)\n",
    " - workingday - Whether or not the day was a working day\n",
    " - weathersit - The weather (as a categorical variable)\n",
    " - temp - The temperature, on a 0-1 scale\n",
    " - atemp - The adjusted temperature\n",
    " - hum - The humidity, on a 0-1 scale\n",
    " - windspeed - The wind speed, on a 0-1 scale\n",
    " - casual - The number of casual riders (people who hadn't previously signed up with the bike sharing program)\n",
    " - registered - The number of registered riders (people who had already signed up)\n",
    " - cnt - The total number of bike rentals (casual + registered)\n",
    " \n",
    "We'll predict the **cnt** column using all of the other columns, except for casual and registered."
   ]
  },
  {
   "cell_type": "code",
   "execution_count": 3,
   "metadata": {},
   "outputs": [
    {
     "data": {
      "image/png": "[encoded data removed]",
      "text/plain": [
       "<Figure size 432x288 with 1 Axes>"
      ]
     },
     "metadata": {
      "needs_background": "light"
     },
     "output_type": "display_data"
    },
    {
     "data": {
      "text/plain": [
       "instant       0.278379\n",
       "season        0.178056\n",
       "yr            0.250495\n",
       "mnth          0.120638\n",
       "hr            0.394071\n",
       "holiday      -0.030927\n",
       "weekday       0.026900\n",
       "workingday    0.030284\n",
       "weathersit   -0.142426\n",
       "temp          0.404772\n",
       "atemp         0.400929\n",
       "hum          -0.322911\n",
       "windspeed     0.093234\n",
       "casual        0.694564\n",
       "registered    0.972151\n",
       "cnt           1.000000\n",
       "Name: cnt, dtype: float64"
      ]
     },
     "execution_count": 3,
     "metadata": {},
     "output_type": "execute_result"
    }
   ],
   "source": [
    "import matplotlib.pyplot as plt\n",
    "%matplotlib inline\n",
    "\n",
    "plt.hist(bike_rentals['cnt'])\n",
    "plt.show()\n",
    "\n",
    "bike_rentals.corr()['cnt']"
   ]
  },
  {
   "cell_type": "markdown",
   "metadata": {},
   "source": [
    "### Calculating Features\n",
    "The **hr** column in bike_rentals contains the hours during which bikes are rented, from 1 to 24.\n",
    "\n",
    "We can introduce some order into the process by creating a new column with labels for morning, afternoon, evening, and night. This will bundle similar times together, enabling the model to make better decisions.\n",
    "\n"
   ]
  },
  {
   "cell_type": "code",
   "execution_count": 5,
   "metadata": {},
   "outputs": [
    {
     "name": "stdout",
     "output_type": "stream",
     "text": [
      "2    4375\n",
      "3    4368\n",
      "1    4360\n",
      "4    4276\n",
      "Name: time_label, dtype: int64\n"
     ]
    }
   ],
   "source": [
    "def assign_labels(row):\n",
    "    if(6<= row <12):\n",
    "        return(1)\n",
    "    elif(12 <= row <18):\n",
    "        return(2)\n",
    "    elif(18<= row <24):\n",
    "        return(3)\n",
    "    else:\n",
    "        return(4)\n",
    "    \n",
    "bike_rentals['time_label'] = bike_rentals['hr'].apply(assign_labels)\n",
    "print(bike_rentals['time_label'].value_counts())"
   ]
  },
  {
   "cell_type": "markdown",
   "metadata": {},
   "source": [
    "### Splitting the Data Into Train and Test Sets\n",
    "\n",
    "### Error Metric\n",
    "The **mean squared error** metric makes the most sense to evaluate our error. MSE works on continuous numeric data, which fits our data quite well."
   ]
  },
  {
   "cell_type": "code",
   "execution_count": 6,
   "metadata": {},
   "outputs": [],
   "source": [
    "#Splitting data in train and Test\n",
    "train = bike_rentals.sample(frac = 0.8, random_state=1)\n",
    "test = bike_rentals.loc[~bike_rentals.index.isin(train.index)]"
   ]
  },
  {
   "cell_type": "markdown",
   "metadata": {},
   "source": [
    "## Applying Linear Regression"
   ]
  },
  {
   "cell_type": "code",
   "execution_count": 8,
   "metadata": {},
   "outputs": [
    {
     "name": "stdout",
     "output_type": "stream",
     "text": [
      "MSE for train dataset is: 17584.747420833708\n",
      "MSE for test dataset is: 17052.12487124757\n"
     ]
    }
   ],
   "source": [
    "from sklearn.linear_model import LinearRegression\n",
    "from sklearn.metrics import mean_squared_error\n",
    "\n",
    "predictor = list(train.columns)\n",
    "predictor.remove('cnt')\n",
    "predictor.remove('casual')\n",
    "predictor.remove('dteday')\n",
    "predictor.remove('registered')\n",
    "\n",
    "lr = LinearRegression()\n",
    "lr.fit(train[predictor], train['cnt'])\n",
    "train_predictions = lr.predict(train[predictor])\n",
    "test_predictions = lr.predict(test[predictor])\n",
    "train_mse = mean_squared_error(train['cnt'], train_predictions)\n",
    "test_mse = mean_squared_error(test['cnt'], test_predictions)\n",
    "\n",
    "print(\"MSE for train dataset is:\" , train_mse)\n",
    "print(\"MSE for test dataset is:\" , test_mse)"
   ]
  },
  {
   "cell_type": "markdown",
   "metadata": {},
   "source": [
    "The error is very high, which may be due to the fact that the data has a few extremely high rental counts, but otherwise mostly low counts. Larger errors are penalized more with MSE, which leads to a higher total error."
   ]
  },
  {
   "cell_type": "markdown",
   "metadata": {},
   "source": [
    "### Applying Decision Trees"
   ]
  },
  {
   "cell_type": "code",
   "execution_count": 9,
   "metadata": {},
   "outputs": [
    {
     "name": "stdout",
     "output_type": "stream",
     "text": [
      "MSE for test dataset with min_samples_leaf: 5 is: 2742.890284482682\n",
      "MSE for test dataset with min_samples_leaf: 6 is: 2643.6843954529204\n",
      "MSE for test dataset with min_samples_leaf: 7 is: 2586.8105573048556\n",
      "MSE for test dataset with min_samples_leaf: 8 is: 2661.0344637726353\n",
      "MSE for test dataset with min_samples_leaf: 9 is: 2686.9232491150765\n",
      "MSE for test dataset with min_samples_leaf: 10 is: 2700.5468333375275\n",
      "MSE for test dataset with min_samples_leaf: 20 is: 3156.280964486221\n"
     ]
    }
   ],
   "source": [
    "from sklearn.tree import DecisionTreeRegressor\n",
    "\n",
    "for samples_leaf in [5,6,7,8,9,10,20]:\n",
    "    dt = DecisionTreeRegressor(min_samples_leaf=samples_leaf, random_state=1)\n",
    "    dt.fit(train[predictor], train['cnt'])\n",
    "    test_predictions = dt.predict(test[predictor])\n",
    "    test_mse = mean_squared_error(test['cnt'], test_predictions)\n",
    "    print('MSE for test dataset with min_samples_leaf:',samples_leaf, 'is:', test_mse)"
   ]
  },
  {
   "cell_type": "markdown",
   "metadata": {},
   "source": [
    "Minimumn MSE is : 2586.8105573 for min_samples_leaf: 7"
   ]
  },
  {
   "cell_type": "markdown",
   "metadata": {},
   "source": [
    "By taking the nonlinear predictors into account, the decision tree regressor appears to have much higher accuracy than linear regression."
   ]
  },
  {
   "cell_type": "markdown",
   "metadata": {},
   "source": [
    "### Applying Random Forests"
   ]
  },
  {
   "cell_type": "code",
   "execution_count": 12,
   "metadata": {},
   "outputs": [
    {
     "name": "stdout",
     "output_type": "stream",
     "text": [
      "MSE for test dataset with min_sample_leaf: 1 is 2124.9600632911392\n",
      "MSE for test dataset with min_sample_leaf: 2 is 2051.3894183948355\n",
      "MSE for test dataset with min_sample_leaf: 3 is 2100.364730059405\n",
      "MSE for test dataset with min_sample_leaf: 4 is 2163.1750495672745\n",
      "MSE for test dataset with min_sample_leaf: 5 is 2204.931811464042\n",
      "MSE for test dataset with min_sample_leaf: 6 is 2257.104181369704\n",
      "MSE for test dataset with min_sample_leaf: 10 is 2470.700221428935\n",
      "MSE for test dataset with min_sample_leaf: 20 is 2936.29722516597\n"
     ]
    }
   ],
   "source": [
    "from warnings import simplefilter\n",
    "simplefilter(action='ignore', category=FutureWarning)\n",
    "from sklearn.ensemble import RandomForestRegressor\n",
    "\n",
    "for samples_leaf in [1,2,3,4,5,6,10,20]:\n",
    "    rf = RandomForestRegressor(min_samples_leaf=samples_leaf, random_state=2)\n",
    "    rf.fit(train[predictor], train['cnt'])\n",
    "    test_predictions = rf.predict(test[predictor])\n",
    "    test_mse = mean_squared_error(test['cnt'], test_predictions)\n",
    "    print('MSE for test dataset with min_sample_leaf:', samples_leaf, 'is', test_mse)"
   ]
  },
  {
   "cell_type": "markdown",
   "metadata": {},
   "source": [
    "Minimumn MSE is : **2051.389418** for min_samples_leaf: 2"
   ]
  },
  {
   "cell_type": "markdown",
   "metadata": {},
   "source": [
    "By removing some of the sources of overfitting, the random forest accuracy is improved over the decision tree accuracy."
   ]
  },
  {
   "cell_type": "code",
   "execution_count": null,
   "metadata": {},
   "outputs": [],
   "source": []
  }
 ],
 "metadata": {
  "kernelspec": {
   "display_name": "Python 3",
   "language": "python",
   "name": "python3"
  },
  "language_info": {
   "codemirror_mode": {
    "name": "ipython",
    "version": 3
   },
   "file_extension": ".py",
   "mimetype": "text/x-python",
   "name": "python",
   "nbconvert_exporter": "python",
   "pygments_lexer": "ipython3",
   "version": "3.7.3"
  }
 },
 "nbformat": 4,
 "nbformat_minor": 2
}
